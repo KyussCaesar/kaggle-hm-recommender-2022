{
 "cells": [
  {
   "cell_type": "code",
   "execution_count": 1,
   "metadata": {},
   "outputs": [],
   "source": [
    "import os\n",
    "os.chdir('/home/jovyan/work')"
   ]
  },
  {
   "cell_type": "code",
   "execution_count": 2,
   "metadata": {},
   "outputs": [],
   "source": [
    "import pandas as pd\n",
    "import polars as pl"
   ]
  },
  {
   "cell_type": "code",
   "execution_count": 3,
   "metadata": {},
   "outputs": [],
   "source": [
    "import logging\n",
    "\n",
    "if __name__ == \"__main__\":\n",
    "  logging.basicConfig(\n",
    "    level=logging.INFO,\n",
    "    force=True,\n",
    "    format='%(asctime)s %(levelname)s %(name)s: %(message)s',\n",
    "  )\n",
    "\n",
    "log = logging.getLogger(__name__)\n"
   ]
  },
  {
   "cell_type": "code",
   "execution_count": 4,
   "metadata": {},
   "outputs": [],
   "source": [
    "from pathlib import Path\n",
    "\n",
    "class Converter:\n",
    "  def __init__(self):\n",
    "    self.log = logging.getLogger(__name__ +'.' + self.__class__.__name__)\n",
    "\n",
    "  def get_stem(self):\n",
    "    raise NotImplementedError\n",
    "\n",
    "  def get_data(self, source_path: Path):\n",
    "    raise NotImplementedError\n",
    "\n",
    "  def get_data_source_path(self):\n",
    "    return Path('data/' + self.get_stem() + '.csv')\n",
    "\n",
    "  def get_data_destination_path(self):\n",
    "    return Path('data/' + self.get_stem() + '.parquet.snappy')\n",
    "\n",
    "  def convert_to_parquet(self):\n",
    "    self.log.info('Begin data conversion.')\n",
    "    source_path = self.get_data_source_path()\n",
    "    self.log.info('Will read source data from %s', source_path.resolve())\n",
    "    df = self.get_data(source_path)\n",
    "\n",
    "    self.log.info('read %s: %i rows, %i columns', source_path, len(df), len(df.columns))\n",
    "    \n",
    "    destination_path = self.get_data_destination_path()\n",
    "    self.log.info('Will write result data to %s', destination_path.resolve())\n",
    "    df.write_parquet(\n",
    "      file=destination_path,\n",
    "      compression='snappy',\n",
    "      use_pyarrow=True, # workaround for 'ArrowErrorException: ExternalFormat(\"A page can only contain i32::MAX uncompressed bytes. This one contains 2165579577\")'\n",
    "    )"
   ]
  },
  {
   "cell_type": "code",
   "execution_count": 5,
   "metadata": {},
   "outputs": [],
   "source": [
    "class ArticlesConverter(Converter):\n",
    "  def get_stem(self):\n",
    "    return 'articles'\n",
    "\n",
    "  def get_data(self, source_path: Path):\n",
    "    df = pl.read_csv(\n",
    "      file=source_path,\n",
    "      dtypes=dict(\n",
    "        article_id=pl.datatypes.Utf8,\n",
    "        colour_group_code=pl.datatypes.Utf8,\n",
    "        department_no=pl.datatypes.Utf8,\n",
    "        garment_group_no=pl.datatypes.Utf8,\n",
    "        graphical_appearance_no=pl.datatypes.Utf8,\n",
    "        index_code=pl.datatypes.Utf8,\n",
    "        index_group_no=pl.datatypes.Utf8,\n",
    "        perceived_colour_master_id=pl.datatypes.Utf8,\n",
    "        perceived_colour_value_id=pl.datatypes.Utf8,\n",
    "        product_code=pl.datatypes.Utf8,\n",
    "        product_type_no=pl.datatypes.Utf8,\n",
    "        section_no=pl.datatypes.Utf8,\n",
    "      )\n",
    "    )\n",
    "\n",
    "    return df"
   ]
  },
  {
   "cell_type": "code",
   "execution_count": 6,
   "metadata": {},
   "outputs": [],
   "source": [
    "class CustomersConverter(Converter):\n",
    "  def get_stem(self):\n",
    "    return 'customers'\n",
    "\n",
    "  def get_data(self, source_path: Path):\n",
    "    df = pl.read_csv(\n",
    "      file=source_path,\n",
    "      dtypes=dict(\n",
    "        customer_id=pl.datatypes.Utf8,\n",
    "        FN=pl.datatypes.Utf8,\n",
    "        Active=pl.datatypes.Utf8,\n",
    "      )\n",
    "    )\n",
    "\n",
    "    return df"
   ]
  },
  {
   "cell_type": "code",
   "execution_count": 7,
   "metadata": {},
   "outputs": [],
   "source": [
    "class TransactionsConverter(Converter):\n",
    "  def get_stem(self):\n",
    "    return 'transactions_train'\n",
    "\n",
    "  def get_data(self, source_path: Path):\n",
    "    df = pl.read_csv(\n",
    "      file=source_path,\n",
    "      dtypes=dict(\n",
    "        article_id=pl.datatypes.Utf8,\n",
    "        sales_channel_id=pl.datatypes.Utf8,\n",
    "      )\n",
    "    )\n",
    "\n",
    "    return df"
   ]
  },
  {
   "cell_type": "code",
   "execution_count": 8,
   "metadata": {},
   "outputs": [],
   "source": [
    "def load_dataset(stem: str) -> pd.DataFrame:\n",
    "    path = f\"data/{stem}.parquet.snappy\"\n",
    "    return pl.read_parquet(path)"
   ]
  },
  {
   "cell_type": "code",
   "execution_count": 9,
   "metadata": {},
   "outputs": [
    {
     "name": "stderr",
     "output_type": "stream",
     "text": [
      "2022-04-17 07:25:13,581 INFO __main__.ArticlesConverter: Begin data conversion.\n",
      "2022-04-17 07:25:13,583 INFO __main__.ArticlesConverter: Will read source data from /home/jovyan/work/data/articles.csv\n",
      "2022-04-17 07:25:13,631 INFO __main__.ArticlesConverter: read data/articles.csv: 105542 rows, 25 columns\n",
      "2022-04-17 07:25:13,632 INFO __main__.ArticlesConverter: Will write result data to /home/jovyan/work/data/articles.parquet.snappy\n",
      "2022-04-17 07:25:13,741 INFO __main__.CustomersConverter: Begin data conversion.\n",
      "2022-04-17 07:25:13,743 INFO __main__.CustomersConverter: Will read source data from /home/jovyan/work/data/customers.csv\n",
      "2022-04-17 07:25:13,914 INFO __main__.CustomersConverter: read data/customers.csv: 1371980 rows, 7 columns\n",
      "2022-04-17 07:25:13,915 INFO __main__.CustomersConverter: Will write result data to /home/jovyan/work/data/customers.parquet.snappy\n",
      "2022-04-17 07:25:14,728 INFO __main__.TransactionsConverter: Begin data conversion.\n",
      "2022-04-17 07:25:14,729 INFO __main__.TransactionsConverter: Will read source data from /home/jovyan/work/data/transactions_train.csv\n",
      "2022-04-17 07:25:16,878 INFO __main__.TransactionsConverter: read data/transactions_train.csv: 31788324 rows, 5 columns\n",
      "2022-04-17 07:25:16,879 INFO __main__.TransactionsConverter: Will write result data to /home/jovyan/work/data/transactions_train.parquet.snappy\n"
     ]
    }
   ],
   "source": [
    "if __name__ == \"__main__\":\n",
    "  converters = [\n",
    "    ArticlesConverter(),\n",
    "    CustomersConverter(),\n",
    "    TransactionsConverter(),\n",
    "  ]\n",
    "\n",
    "  for converter in converters:\n",
    "    converter.convert_to_parquet()"
   ]
  }
 ],
 "metadata": {
  "kernelspec": {
   "display_name": "Python 3 (ipykernel)",
   "language": "python",
   "name": "python3"
  },
  "language_info": {
   "codemirror_mode": {
    "name": "ipython",
    "version": 3
   },
   "file_extension": ".py",
   "mimetype": "text/x-python",
   "name": "python",
   "nbconvert_exporter": "python",
   "pygments_lexer": "ipython3",
   "version": "3.9.10"
  }
 },
 "nbformat": 4,
 "nbformat_minor": 4
}
