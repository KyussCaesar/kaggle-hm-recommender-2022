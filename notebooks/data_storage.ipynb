{
 "cells": [
  {
   "cell_type": "code",
   "execution_count": 15,
   "metadata": {},
   "outputs": [],
   "source": [
    "import pandas as pd"
   ]
  },
  {
   "cell_type": "code",
   "execution_count": 25,
   "metadata": {},
   "outputs": [],
   "source": [
    "import logging\n",
    "\n",
    "if __name__ == \"__main__\":\n",
    "    logging.basicConfig(\n",
    "        level=logging.INFO,\n",
    "        force=True,\n",
    "    )\n",
    "\n",
    "log = logging.getLogger(__name__)\n"
   ]
  },
  {
   "cell_type": "code",
   "execution_count": 27,
   "metadata": {},
   "outputs": [],
   "source": [
    "def convert_to_parquet(stem: str):\n",
    "    df = pd.read_csv(\n",
    "        f'data/{stem}.csv',\n",
    "        engine='pyarrow',\n",
    "    )\n",
    "\n",
    "    log.info('read %s.csv: %i rows, %i columns', stem, len(df), len(df.columns))\n",
    "\n",
    "    df.to_parquet(\n",
    "        path=f\"data/{stem}.parquet.snappy\",\n",
    "        engine=\"pyarrow\",\n",
    "        compression=\"snappy\",\n",
    "    )"
   ]
  },
  {
   "cell_type": "code",
   "execution_count": null,
   "metadata": {},
   "outputs": [],
   "source": [
    "def load_dataset(stem: str) -> pd.DataFrame:\n",
    "    path = f\"data/{stem}.parquet.snappy\"\n",
    "    return pd.read_parquet(path)"
   ]
  },
  {
   "cell_type": "code",
   "execution_count": null,
   "metadata": {},
   "outputs": [],
   "source": [
    "if __name__ == \"__main__\":\n",
    "    convert_to_parquet('articles')\n",
    "    convert_to_parquet('customers')\n",
    "    convert_to_parquet('transactions_train')"
   ]
  }
 ],
 "metadata": {
  "kernelspec": {
   "display_name": "kaggle-hm-recommender-2022",
   "language": "python",
   "name": "kaggle-hm-recommender-2022"
  },
  "language_info": {
   "codemirror_mode": {
    "name": "ipython",
    "version": 3
   },
   "file_extension": ".py",
   "mimetype": "text/x-python",
   "name": "python",
   "nbconvert_exporter": "python",
   "pygments_lexer": "ipython3",
   "version": "3.10.3"
  },
  "orig_nbformat": 4
 },
 "nbformat": 4,
 "nbformat_minor": 2
}
