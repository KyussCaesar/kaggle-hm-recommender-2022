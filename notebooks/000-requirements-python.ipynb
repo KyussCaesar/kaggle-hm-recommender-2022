{
 "cells": [
  {
   "cell_type": "markdown",
   "id": "b241e87e-c54d-42a6-a518-7b9d3eb2b68e",
   "metadata": {},
   "source": [
    "# Requirements (Python)"
   ]
  },
  {
   "cell_type": "markdown",
   "id": "cde67d83-a68f-4537-b63c-01ecb89b1ba6",
   "metadata": {},
   "source": [
    "Polars throws an exception (page size too large, larger than rust i32::MAX bytes)\n",
    "when trying to write the transactions table as parquet.\n",
    "\n",
    "For this reason, I need to install pyarrow and use that backend instead when writing\n",
    "the transactions table (refer to data_storage notebook)."
   ]
  },
  {
   "cell_type": "code",
   "execution_count": 1,
   "id": "f936dc99-63e0-4c03-bc3e-1bd72682a95b",
   "metadata": {},
   "outputs": [
    {
     "name": "stdout",
     "output_type": "stream",
     "text": [
      "Requirement already satisfied: pyarrow in /opt/conda/lib/python3.9/site-packages (7.0.0)\n",
      "Requirement already satisfied: polars in /opt/conda/lib/python3.9/site-packages (0.13.23)\n",
      "Collecting jupyterlab-vim\n",
      "  Downloading jupyterlab_vim-0.15.1-py3-none-any.whl (25 kB)\n",
      "Requirement already satisfied: numpy>=1.16.6 in /opt/conda/lib/python3.9/site-packages (from pyarrow) (1.21.5)\n",
      "Requirement already satisfied: typing_extensions>=4.0.0 in /opt/conda/lib/python3.9/site-packages (from polars) (4.1.1)\n",
      "Installing collected packages: jupyterlab-vim\n",
      "Successfully installed jupyterlab-vim-0.15.1\n"
     ]
    }
   ],
   "source": [
    "!pip install pyarrow polars jupyterlab-vim"
   ]
  },
  {
   "cell_type": "code",
   "execution_count": null,
   "id": "c7cd59e1-b684-4500-b9b1-f26c42d19533",
   "metadata": {},
   "outputs": [],
   "source": [
    "def set_working_directory():\n",
    "  \"\"\"\n",
    "  jupyter is dumb sometimes and doesn't always set the\n",
    "  working directory as expected, use this to fix it.\n",
    "  \"\"\"\n",
    "  import os\n",
    "  os.chdir('/home/jovyan/work')"
   ]
  }
 ],
 "metadata": {
  "kernelspec": {
   "display_name": "Python 3 (ipykernel)",
   "language": "python",
   "name": "python3"
  },
  "language_info": {
   "codemirror_mode": {
    "name": "ipython",
    "version": 3
   },
   "file_extension": ".py",
   "mimetype": "text/x-python",
   "name": "python",
   "nbconvert_exporter": "python",
   "pygments_lexer": "ipython3",
   "version": "3.9.10"
  }
 },
 "nbformat": 4,
 "nbformat_minor": 5
}
