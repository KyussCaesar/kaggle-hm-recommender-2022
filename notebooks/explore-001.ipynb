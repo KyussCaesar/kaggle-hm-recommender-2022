{
 "cells": [
  {
   "cell_type": "code",
   "execution_count": null,
   "metadata": {},
   "outputs": [],
   "source": [
    "import pandas as pd"
   ]
  },
  {
   "cell_type": "code",
   "execution_count": null,
   "metadata": {},
   "outputs": [],
   "source": [
    "import logging\n",
    "\n",
    "if __name__ == \"__main__\":\n",
    "    logging.basicConfig(\n",
    "        level=logging.INFO,\n",
    "        force=True,\n",
    "    )\n",
    "\n",
    "log = logging.getLogger(__name__)\n"
   ]
  }
 ],
 "metadata": {
  "interpreter": {
   "hash": "e174f44d03eedd4259be846abdca082e1c3201c3081226ac6aab531673893fd1"
  },
  "kernelspec": {
   "display_name": "kaggle-hm-recommender-2022",
   "language": "python",
   "name": "kaggle-hm-recommender-2022"
  },
  "language_info": {
   "name": "python",
   "version": "3.10.3"
  },
  "orig_nbformat": 4
 },
 "nbformat": 4,
 "nbformat_minor": 2
}
