{
 "cells": [
  {
   "cell_type": "markdown",
   "id": "2694a9c4-260a-4e13-94f9-5e4409f41db9",
   "metadata": {},
   "source": [
    "# (baseline) Most Popular Articles split by age group"
   ]
  },
  {
   "cell_type": "code",
   "execution_count": 1,
   "id": "030d36a0-3504-4962-bd88-2f8763a10e80",
   "metadata": {},
   "outputs": [],
   "source": [
    "import os\n",
    "os.chdir('/home/jovyan/work')"
   ]
  },
  {
   "cell_type": "code",
   "execution_count": 2,
   "id": "c472d9fe-1065-4e28-b06f-215300abe732",
   "metadata": {},
   "outputs": [],
   "source": [
    "import polars as pl"
   ]
  },
  {
   "cell_type": "code",
   "execution_count": 3,
   "id": "683ec74a-ce57-419a-a713-2c3a844a0db1",
   "metadata": {},
   "outputs": [
    {
     "name": "stdout",
     "output_type": "stream",
     "text": [
      "importing Jupyter notebook from /home/jovyan/work/notebooks/data_storage.ipynb\n"
     ]
    }
   ],
   "source": [
    "import notebooks\n",
    "from notebooks import data_storage\n",
    "\n",
    "transactions = data_storage.load_dataset('transactions_train')\n",
    "customers = data_storage.load_dataset('customers')"
   ]
  },
  {
   "cell_type": "code",
   "execution_count": null,
   "id": "cf9507b2-78f3-4994-9b22-4e710c40bbab",
   "metadata": {},
   "outputs": [],
   "source": []
  },
  {
   "cell_type": "code",
   "execution_count": 5,
   "id": "17f5baac-aa7b-4a73-8b9b-b7bcdbb7ae22",
   "metadata": {},
   "outputs": [],
   "source": [
    "class MostPopularByAgeGroupRecommender:\n",
    "  def __init__(self, transactions: pl.DataFrame):\n",
    "    self.transactions = transactions\n",
    "    self.customers = customers\n",
    "\n",
    "  def get_recommendations(self, customer_ids: list, start_date, end_date) -> pl.DataFrame:\n",
    "    # TODO generate most_popular per-age-group\n",
    "    most_popular = (\n",
    "      transactions\n",
    "      .lazy()\n",
    "      .filter(\n",
    "        (pl.col('t_dat') < end_date)\n",
    "      & (pl.col('t_dat') > start_date)\n",
    "      )\n",
    "      .groupby('article_id')\n",
    "      .agg([pl.count()])\n",
    "      .sort('count', reverse=True)\n",
    "      .head(12)\n",
    "      .collect()\n",
    "    )\n",
    "\n",
    "    predictions = \" \".join(map(str, most_popular['article_id'].to_list()))\n",
    "\n",
    "    df = pl.DataFrame({\n",
    "      'customer_id': customer_ids,\n",
    "      'prediction': [predictions] * len(customer_ids),\n",
    "    })\n",
    "\n",
    "    return df"
   ]
  },
  {
   "cell_type": "code",
   "execution_count": 6,
   "id": "6e5a1cc2-2415-49db-ae7c-5e5059077555",
   "metadata": {},
   "outputs": [],
   "source": [
    "sample_submission = pl.read_csv('data/sample_submission.csv')"
   ]
  },
  {
   "cell_type": "code",
   "execution_count": 7,
   "id": "9ba131c6-c970-4409-8e98-2e3f3be81aa8",
   "metadata": {},
   "outputs": [
    {
     "data": {
      "text/html": [
       "<div>\n",
       "<style scoped>\n",
       "    .dataframe tbody tr th:only-of-type {\n",
       "        vertical-align: middle;\n",
       "    }\n",
       "\n",
       "    .dataframe tbody tr th {\n",
       "        vertical-align: top;\n",
       "    }\n",
       "\n",
       "    .dataframe thead th {\n",
       "        text-align: right;\n",
       "    }\n",
       "</style>\n",
       "<table border=\"1 \"class=\"dataframe \">\n",
       "<thead>\n",
       "<tr>\n",
       "<th>\n",
       "max_date\n",
       "</th>\n",
       "<th>\n",
       "min_date\n",
       "</th>\n",
       "</tr>\n",
       "<tr>\n",
       "<td>\n",
       "str\n",
       "</td>\n",
       "<td>\n",
       "str\n",
       "</td>\n",
       "</tr>\n",
       "</thead>\n",
       "<tbody>\n",
       "<tr>\n",
       "<td>\n",
       "null\n",
       "</td>\n",
       "<td>\n",
       "null\n",
       "</td>\n",
       "</tr>\n",
       "</tbody>\n",
       "</table>\n",
       "</div>"
      ],
      "text/plain": [
       "shape: (1, 2)\n",
       "┌──────────┬──────────┐\n",
       "│ max_date ┆ min_date │\n",
       "│ ---      ┆ ---      │\n",
       "│ str      ┆ str      │\n",
       "╞══════════╪══════════╡\n",
       "│ null     ┆ null     │\n",
       "└──────────┴──────────┘"
      ]
     },
     "execution_count": 7,
     "metadata": {},
     "output_type": "execute_result"
    }
   ],
   "source": [
    "transactions.select([pl.max('t_dat').alias('max_date'), pl.min('t_dat').alias('min_date')])"
   ]
  },
  {
   "cell_type": "code",
   "execution_count": null,
   "id": "3065f113-1333-45b2-bac6-1eb1aff9d482",
   "metadata": {},
   "outputs": [],
   "source": [
    "rec = MostPopularByAgeGroup(transactions)\n",
    "submission = rec.get_recommendations(sample_submission['customer_id'], '2018-09-20', '2020-09-23')"
   ]
  },
  {
   "cell_type": "code",
   "execution_count": null,
   "id": "e11e8e0f-2ca4-458c-a1ce-d46541f9f035",
   "metadata": {},
   "outputs": [],
   "source": [
    "submission.write_csv('most-popular-by-age-group-submission.csv')"
   ]
  }
 ],
 "metadata": {
  "kernelspec": {
   "display_name": "Python 3 (ipykernel)",
   "language": "python",
   "name": "python3"
  },
  "language_info": {
   "codemirror_mode": {
    "name": "ipython",
    "version": 3
   },
   "file_extension": ".py",
   "mimetype": "text/x-python",
   "name": "python",
   "nbconvert_exporter": "python",
   "pygments_lexer": "ipython3",
   "version": "3.9.10"
  }
 },
 "nbformat": 4,
 "nbformat_minor": 5
}
